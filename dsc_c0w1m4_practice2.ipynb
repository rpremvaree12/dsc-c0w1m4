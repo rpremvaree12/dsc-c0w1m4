{
  "cells": [
    {
      "cell_type": "markdown",
      "metadata": {
        "id": "Q22zW4syLLGc"
      },
      "source": [
        "# Practice for Matplotlib"
      ]
    },
    {
      "cell_type": "markdown",
      "metadata": {
        "id": "wS_-J0FkLOR9"
      },
      "source": [
        "1. Import the appropriate libraries and create the data given below."
      ]
    },
    {
      "cell_type": "code",
      "execution_count": null,
      "metadata": {
        "id": "IGXyRze6LKWU"
      },
      "outputs": [
        {
          "data": {
            "text/plain": [
              "array([2550, 7300, 3000])"
            ]
          },
          "execution_count": 18,
          "metadata": {},
          "output_type": "execute_result"
        }
      ],
      "source": [
        "# import germane libraries\n",
        "import pandas as pd\n",
        "import matplotlib.pyplot as plt\n",
        "import numpy as np\n",
        "\n",
        "# data\n",
        "data = pd.DataFrame({\n",
        "    'Date': ['2022-01-01', '2022-01-02', '2022-01-03', '2022-01-04', '2022-01-05',\n",
        "             '2022-01-06', '2022-01-07', '2022-01-08', '2022-01-09', '2022-01-10',\n",
        "             '2022-01-11', '2022-01-12', '2022-01-13', '2022-01-14', '2022-01-15',\n",
        "             '2022-01-16', '2022-01-17', '2022-01-18', '2022-01-19', '2022-01-20'],\n",
        "    'Category': ['Electronics', 'Clothing', 'Home', 'Electronics', 'Clothing',\n",
        "                 'Home', 'Electronics', 'Clothing', 'Home', 'Electronics',\n",
        "                 'Clothing', 'Home', 'Electronics', 'Clothing', 'Home',\n",
        "                 'Electronics', 'Clothing', 'Home', 'Electronics', 'Clothing'],\n",
        "    'Quantity': [10, 5, 8, 20, 7, 6, 9, 11, 4, 13, 6, 9, 8, 5, 7, 11, 9, 6, 10, 8],\n",
        "    'Revenue': [1000, 250, 600, 1200, 350, 450, 900, 550, 300, 1300, 300, 675, 800, 250, 525, 1100, 450, 450, 1000, 400]\n",
        "})\n"
      ]
    },
    {
      "cell_type": "markdown",
      "metadata": {
        "id": "S5eZugCFLTbM"
      },
      "source": [
        "2. Create a bar chart to visualize the revenue by product category.\n",
        "- Label the axes and title appropriately\n",
        "- Create a new variable called ‘category_revenure’ using this code\n",
        " - `category_revenue = data.groupby('Category')['Revenue'].sum()`\n",
        "- Which of the product categories has the greatest amount of revenue?\n"
      ]
    },
    {
      "cell_type": "code",
      "execution_count": null,
      "metadata": {
        "id": "AkWeJb7LLhSC"
      },
      "outputs": [
        {
          "data": {
            "image/png": "[encoded data removed]",
            "text/plain": [
              "<Figure size 432x288 with 1 Axes>"
            ]
          },
          "metadata": {
            "needs_background": "light"
          },
          "output_type": "display_data"
        }
      ],
      "source": [
        "# Your code here\n",
        "\n",
        "plt.figure(figsize=(6,4))\n",
        "\n",
        "# category_revenue is a pandas series .index is the columns, .values is the agg value\n",
        "category_revenue = data.groupby(\"Category\")[\"Revenue\"].sum() \n",
        "plt.bar(category_revenue.index,category_revenue.values)\n",
        "plt.xlabel('Category')\n",
        "plt.ylabel('Revenue')\n",
        "plt.title(\"Revenue by Category\")\n",
        "plt.show()"
      ]
    },
    {
      "cell_type": "markdown",
      "metadata": {
        "id": "sMJtwk43LmCI"
      },
      "source": [
        "3. Create a histogram to visualize the distribution of revenue.\n",
        "- Label the axes and title appropriately\n",
        "- How would you describe the shape of the distribution?\n"
      ]
    },
    {
      "cell_type": "code",
      "execution_count": 25,
      "metadata": {
        "id": "6MgnZ0ncLoXA"
      },
      "outputs": [
        {
          "data": {
            "image/png": "[encoded data removed]",
            "text/plain": [
              "<Figure size 432x288 with 1 Axes>"
            ]
          },
          "metadata": {
            "needs_background": "light"
          },
          "output_type": "display_data"
        },
        {
          "name": "stdout",
          "output_type": "stream",
          "text": [
            "The mean revenue is 642.5. The median revenue is 537.5.\n"
          ]
        }
      ],
      "source": [
        "# Your code here\n",
        "\n",
        "plt.hist(data[\"Revenue\"],edgecolor='black')\n",
        "plt.xlabel(\"Revenue\")\n",
        "plt.ylabel(\"Frequency\")\n",
        "plt.title(\"Distribution of Revenue\")\n",
        "plt.show()\n",
        "\n",
        "median_revenue = np.median(data[\"Revenue\"])\n",
        "mean_revenue = np.mean(data[\"Revenue\"])\n",
        "print(f\"The mean revenue is {mean_revenue}. The median revenue is {median_revenue}.\")"
      ]
    },
    {
      "cell_type": "markdown",
      "metadata": {},
      "source": [
        "The histogram is skewed right as the tail of the histogram is on the right side. This means there are fewer larger values than smaller ones. Therefore, it would make sense the median would appear on the left side of the histogram."
      ]
    },
    {
      "cell_type": "code",
      "execution_count": null,
      "metadata": {},
      "outputs": [],
      "source": []
    },
    {
      "cell_type": "markdown",
      "metadata": {
        "id": "oBF-TeX5LqIv"
      },
      "source": [
        "4. Create a scatter plot to visualize the relationship between quantity sold and revenue.\n",
        "- Label the axes and title appropriately\n",
        "- How would you describe the overall trend of the data?"
      ]
    },
    {
      "cell_type": "code",
      "execution_count": null,
      "metadata": {
        "id": "vYWCetVSLvG9"
      },
      "outputs": [
        {
          "data": {
            "text/plain": [
              "Text(0.5, 1.0, 'Quantity Sold vs. Revenue')"
            ]
          },
          "execution_count": 27,
          "metadata": {},
          "output_type": "execute_result"
        },
        {
          "data": {
            "image/png": "[encoded data removed]",
            "text/plain": [
              "<Figure size 432x288 with 1 Axes>"
            ]
          },
          "metadata": {
            "needs_background": "light"
          },
          "output_type": "display_data"
        }
      ],
      "source": [
        "# Your code here\n",
        "\n",
        "plt.scatter(data[\"Quantity\"],data[\"Revenue\"])\n",
        "plt.xlabel(\"Quantity Sold\")\n",
        "plt.ylabel(\"Revenue\")\n",
        "\n",
        "# x vs. y\n",
        "plt.title(\"Quantity Sold vs. Revenue\")"
      ]
    },
    {
      "cell_type": "markdown",
      "metadata": {
        "id": "cKd8aqnFLw9l"
      },
      "source": [
        "5. Create a boxplot to visualize the quantity sold.\n",
        "- Label the axes and title appropriately\n",
        "- Do you notice any extreme values (possible outliers)?"
      ]
    },
    {
      "cell_type": "code",
      "execution_count": null,
      "metadata": {
        "id": "2ow7a165L105"
      },
      "outputs": [],
      "source": [
        "# Your code here\n",
        "\n",
        "plt.boxplot(data[\"Quantity\"])\n",
        "plt.xlabel(\"Quantity Sold\")\n",
        "plt.ylabel(\"Units\")"
      ]
    }
  ],
  "metadata": {
    "colab": {
      "provenance": []
    },
    "kernelspec": {
      "display_name": "Python (learn-env)",
      "language": "python",
      "name": "learn-env"
    },
    "language_info": {
      "codemirror_mode": {
        "name": "ipython",
        "version": 3
      },
      "file_extension": ".py",
      "mimetype": "text/x-python",
      "name": "python",
      "nbconvert_exporter": "python",
      "pygments_lexer": "ipython3",
      "version": "3.8.5"
    }
  },
  "nbformat": 4,
  "nbformat_minor": 0
}
